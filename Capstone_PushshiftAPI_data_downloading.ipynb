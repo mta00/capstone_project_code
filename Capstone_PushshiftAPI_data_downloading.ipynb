{
 "cells": [
  {
   "cell_type": "code",
   "execution_count": null,
   "id": "df0b5747",
   "metadata": {},
   "outputs": [],
   "source": [
    "#import necessary modules\n",
    "import pandas as pd\n",
    "import datetime as dt\n",
    "from pmaw import PushshiftAPI\n",
    "\n",
    "api = PushshiftAPI()\n",
    "\n",
    "#list of subreddits to scrape\n",
    "subs = ['Libertarian', 'Anarchism', 'socialism', 'progressive', 'Conservative', 'democrats', \n",
    "        'Liberal', 'Anarcho_Capitalism', 'SocialDemocracy', 'Egalitarianism', 'LibertarianSocialism', \n",
    "        'Marxism', 'GreenParty', 'labor']\n",
    "\n",
    "#API search parameters\n",
    "limit = 10000\n",
    "before = int(dt.datetime(2023,2,20,0,0).timestamp())\n",
    "after = int(dt.datetime(2010,1,1,0,0).timestamp())\n",
    "\n",
    "for sub in subs:\n",
    "    #retrieve posts and comments for each subreddit\n",
    "    posts = api.search_submissions(subreddit = sub, size = limit, before = before, after = after)\n",
    "    comms = api.search_submissions(subreddit = sub, size = limit, before = before, after = after)\n",
    "    \n",
    "    #convert into pandas dataframe\n",
    "    posts_reddit_pmaw = pd.DataFrame(posts)\n",
    "    comms_reddit_pmaw = pd.DataFrame(comms)\n",
    "    \n",
    "    #save as CSV\n",
    "    posts_reddit_pmaw.to_csv('/Users/masha/Desktop/reddit/posts' + sub + '_posts.csv')\n",
    "    comms_reddit_pmaw.to_csv('/Users/masha/Desktop/reddit/comments' + sub + '_comms.csv')"
   ]
  }
 ],
 "metadata": {
  "kernelspec": {
   "display_name": "Python 3 (ipykernel)",
   "language": "python",
   "name": "python3"
  },
  "language_info": {
   "codemirror_mode": {
    "name": "ipython",
    "version": 3
   },
   "file_extension": ".py",
   "mimetype": "text/x-python",
   "name": "python",
   "nbconvert_exporter": "python",
   "pygments_lexer": "ipython3",
   "version": "3.10.9"
  }
 },
 "nbformat": 4,
 "nbformat_minor": 5
}
